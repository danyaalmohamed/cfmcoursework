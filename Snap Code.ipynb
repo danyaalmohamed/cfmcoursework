{
 "cells": [
  {
   "cell_type": "code",
   "execution_count": 1,
   "metadata": {
    "collapsed": true
   },
   "outputs": [],
   "source": [
    "#importing required libraries\n",
    "import numpy as np\n",
    "import random as rnd\n",
    "import itertools as it\n",
    "import sympy as sym\n",
    "import time\n",
    "import matplotlib.pyplot as plt"
   ]
  },
  {
   "cell_type": "markdown",
   "metadata": {},
   "source": [
    "# One deck of cards shuffled between 2 players"
   ]
  },
  {
   "cell_type": "code",
   "execution_count": 2,
   "metadata": {
    "collapsed": true
   },
   "outputs": [],
   "source": [
    "def halfsnap():\n",
    "    \"\"\"Calculates number of snaps (face value) in a game with 2 players and half a shuffled deck each\"\"\"\n",
    "    deck = 4*list((x for x in range(1,14))) #create a deck just containing face values\n",
    "    rnd.shuffle(deck)\n",
    "    hand1 = deck[:26] #split the deck\n",
    "    hand2 = deck[26:]\n",
    "    matches = []\n",
    "    for x in range(26):\n",
    "        if hand1[x] == hand2[x]: #each next element in each list simulates the next round\n",
    "            matches.append(x)\n",
    "    return len(matches)"
   ]
  },
  {
   "cell_type": "code",
   "execution_count": 3,
   "metadata": {
    "collapsed": true
   },
   "outputs": [],
   "source": [
    "def meanhalfsnaps(x):\n",
    "    \"\"\"Calculates the mean number of snaps for x trials of halfsnap\"\"\"\n",
    "    trials = [halfsnap() for i in range(x)]\n",
    "    return np.mean(trials)"
   ]
  },
  {
   "cell_type": "code",
   "execution_count": 4,
   "metadata": {
    "collapsed": false
   },
   "outputs": [
    {
     "data": {
      "text/plain": [
       "1.5458000000000001"
      ]
     },
     "execution_count": 4,
     "metadata": {},
     "output_type": "execute_result"
    }
   ],
   "source": [
    "meanhalfsnaps(10000)"
   ]
  },
  {
   "cell_type": "markdown",
   "metadata": {},
   "source": [
    "# A shuffled deck each for 2 players"
   ]
  },
  {
   "cell_type": "code",
   "execution_count": 5,
   "metadata": {
    "collapsed": true
   },
   "outputs": [],
   "source": [
    "def doublesnap():\n",
    "    \"\"\"Returns the number of snaps playing 1 game of snap for 2 players with a deck of shuffled cards each\"\"\"\n",
    "    tempdeck = list(it.product(range(1,14),['Spades','Hearts','Diamonds','Clubs'])) #use itertools to create product of face values and suits\n",
    "    deck = []\n",
    "    for x in range(len(tempdeck)):\n",
    "        deck.append(str(tempdeck[x][0]) +' of '+ str(tempdeck[x][1])) #create single string elements in deck\n",
    "    hand1 = [x for x in deck]\n",
    "    hand2 = [x for x in deck]\n",
    "    rnd.shuffle(hand1) #shuffle each hand manually\n",
    "    rnd.shuffle(hand2)\n",
    "    matches = []\n",
    "    for x in range(52):\n",
    "        if hand1[x] == hand2[x]:\n",
    "            matches.append(x)\n",
    "    return len(matches)"
   ]
  },
  {
   "cell_type": "code",
   "execution_count": 6,
   "metadata": {
    "collapsed": true
   },
   "outputs": [],
   "source": [
    "def meandoublesnaps(x):\n",
    "    \"\"\"Calculates the mean number of snaps for x trials of doublesnap\"\"\"\n",
    "    trials = [doublesnap() for i in range(x)]\n",
    "    return np.mean(trials)"
   ]
  },
  {
   "cell_type": "code",
   "execution_count": 7,
   "metadata": {
    "collapsed": false
   },
   "outputs": [
    {
     "data": {
      "text/plain": [
       "0.99590000000000001"
      ]
     },
     "execution_count": 7,
     "metadata": {},
     "output_type": "execute_result"
    }
   ],
   "source": [
    "meandoublesnaps(10000)"
   ]
  },
  {
   "cell_type": "code",
   "execution_count": 8,
   "metadata": {
    "collapsed": true
   },
   "outputs": [],
   "source": [
    "def doubleprobability(P):\n",
    "    \"\"\"Returns the probability of having at least one snap in a game, from P different trials\"\"\"\n",
    "    snaplist = []\n",
    "    for x in range(P):\n",
    "        if doublesnap() > 0: #check there's at least 1 snap in the game\n",
    "            snaplist.append('Snap') #adds a successful round to a list\n",
    "    return len(snaplist)/P"
   ]
  },
  {
   "cell_type": "code",
   "execution_count": 9,
   "metadata": {
    "collapsed": false
   },
   "outputs": [
    {
     "data": {
      "text/plain": [
       "0.6322"
      ]
     },
     "execution_count": 9,
     "metadata": {},
     "output_type": "execute_result"
    }
   ],
   "source": [
    "doubleprobability(100000)"
   ]
  },
  {
   "cell_type": "markdown",
   "metadata": {},
   "source": [
    "# A shuffled deck each for N players"
   ]
  },
  {
   "cell_type": "code",
   "execution_count": 10,
   "metadata": {
    "collapsed": true
   },
   "outputs": [],
   "source": [
    "def numbersnap(N):\n",
    "    \"\"\"Calculates the number of any snaps in a round playing 1 game of snap for N players with a deck of shuffled cards each\"\"\"\n",
    "    tempdeck = list(it.product(range(1,14),['Spades','Hearts','Diamonds','Clubs']))\n",
    "    deck = []\n",
    "    for x in range(len(tempdeck)):\n",
    "        deck.append(str(tempdeck[x][0]) +' of '+ str(tempdeck[x][1]))\n",
    "    temphands = []\n",
    "    for i in range(N):\n",
    "        temphands.append(deck) #creates N unshuffled decks for N players in a temporary hands list\n",
    "    hands = []\n",
    "    for t in temphands: #shuffles each element in temporary hands and adds to a new list of hands\n",
    "        rnd.shuffle(t)\n",
    "        hands.append(list(t))\n",
    "    checklist =  [[[hands[q][k] == hands[p][k] for q in range(len(hands))] for p in range(len(hands))] for k in range(len(hands[0]))]\n",
    "    Matcheslist = []\n",
    "    for y in range(len(checklist)):\n",
    "        Roundmatchlist = []\n",
    "        for p in range(len(hands)):\n",
    "            if checklist[y][p].count(True) >= 2: #A card will always match itself, so checking >= 2 ensures it matches to at least one other card\n",
    "                    Roundmatchlist.append(p)\n",
    "        if len(Roundmatchlist) != 0: #if theres a match in a round, add to matcheslist\n",
    "            Matcheslist.append('Match')\n",
    "    return len(Matcheslist)"
   ]
  },
  {
   "cell_type": "code",
   "execution_count": 11,
   "metadata": {
    "collapsed": true
   },
   "outputs": [],
   "source": [
    "def meansnaps(N, x):\n",
    "    \"\"\"Calculates mean number of snaps for x trials of N players\"\"\"\n",
    "    trials = [numbersnap(N) for i in range(x)]\n",
    "    return np.mean(trials)"
   ]
  },
  {
   "cell_type": "code",
   "execution_count": 12,
   "metadata": {
    "collapsed": false
   },
   "outputs": [
    {
     "data": {
      "image/png": "[encoded data removed]",
      "text/plain": [
       "<matplotlib.figure.Figure at 0x20f957cc4a8>"
      ]
     },
     "metadata": {},
     "output_type": "display_data"
    }
   ],
   "source": [
    "plt.plot([x for x in range(1, 53)], [meansnaps(x, 100) for x in range(1, 53)], 'r-') #use matplotlib.pyplot\n",
    "plt.xlabel('Number of Players')\n",
    "plt.ylabel('Snaps per Game')\n",
    "plt.savefig('SnapGraph.pdf')  \n",
    "plt.show()  \n",
    "plt.close()"
   ]
  },
  {
   "cell_type": "code",
   "execution_count": 13,
   "metadata": {
    "collapsed": true
   },
   "outputs": [],
   "source": [
    "def approach(z):\n",
    "    \"\"\"Function that calculated how many players are needed for expected snaps of a game to be 52\"\"\"\n",
    "    x = 1\n",
    "    while meansnaps(x, z) != 52:\n",
    "        meansnaps(x, z)\n",
    "        x += 1\n",
    "    return x"
   ]
  },
  {
   "cell_type": "code",
   "execution_count": 14,
   "metadata": {
    "collapsed": true
   },
   "outputs": [],
   "source": [
    "def timedapproach(z):\n",
    "    \"\"\"Function to time how long it takes to calculate different values for approach(z)\"\"\"\n",
    "    start_time = time.clock() #use time library\n",
    "    approach(z)\n",
    "    return int(time.clock() - start_time)"
   ]
  },
  {
   "cell_type": "code",
   "execution_count": 15,
   "metadata": {
    "collapsed": false
   },
   "outputs": [
    {
     "data": {
      "image/png": "[encoded data removed]",
      "text/plain": [
       "<matplotlib.figure.Figure at 0x20f91fd00b8>"
      ]
     },
     "metadata": {},
     "output_type": "display_data"
    }
   ],
   "source": [
    "plt.plot([2, 10, 50, 100, 200, 350, 500], [approach(2), approach(10), approach(50), approach(100), approach(350), approach(200), approach(500)], 'r-')\n",
    "plt.xlabel('Times code run')\n",
    "plt.ylabel('Minimum Players Where Expected Snaps = 52')\n",
    "plt.savefig('E(x)Graph.pdf')  \n",
    "plt.show()  \n",
    "plt.close()"
   ]
  },
  {
   "cell_type": "code",
   "execution_count": 16,
   "metadata": {
    "collapsed": false
   },
   "outputs": [
    {
     "data": {
      "image/png": "[encoded data removed]",
      "text/plain": [
       "<matplotlib.figure.Figure at 0x20f9841d0f0>"
      ]
     },
     "metadata": {},
     "output_type": "display_data"
    }
   ],
   "source": [
    "plt.plot([2, 10, 50, 100, 200, 350, 500, 1000], [timedapproach(2), timedapproach(10), timedapproach(50), timedapproach(100), timedapproach(350), timedapproach(200), timedapproach(500), timedapproach(1000) ], 'r-')\n",
    "plt.xlabel('Times code run')\n",
    "plt.ylabel('Time Taken to Execute')\n",
    "plt.savefig('TimeGraph.pdf')  \n",
    "plt.show()  \n",
    "plt.close()"
   ]
  },
  {
   "cell_type": "code",
   "execution_count": null,
   "metadata": {
    "collapsed": true
   },
   "outputs": [],
   "source": []
  }
 ],
 "metadata": {
  "anaconda-cloud": {},
  "kernelspec": {
   "display_name": "Python [conda root]",
   "language": "python",
   "name": "conda-root-py"
  },
  "language_info": {
   "codemirror_mode": {
    "name": "ipython",
    "version": 3
   },
   "file_extension": ".py",
   "mimetype": "text/x-python",
   "name": "python",
   "nbconvert_exporter": "python",
   "pygments_lexer": "ipython3",
   "version": "3.5.2"
  }
 },
 "nbformat": 4,
 "nbformat_minor": 1
}
